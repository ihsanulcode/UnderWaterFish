{
 "cells": [
  {
   "cell_type": "markdown",
   "id": "adaec924-80d4-4a22-80a6-b40088e46e30",
   "metadata": {},
   "source": [
    "# MobileNet"
   ]
  },
  {
   "cell_type": "code",
   "execution_count": 2,
   "id": "89f40015-9653-4417-9d52-010cc2f96c1c",
   "metadata": {},
   "outputs": [],
   "source": [
    "import torch\n",
    "torch.set_default_device('cuda')"
   ]
  },
  {
   "cell_type": "code",
   "execution_count": 3,
   "id": "70a3dbcc-651c-46d7-85d0-76963c46fcfa",
   "metadata": {},
   "outputs": [],
   "source": [
    "import pandas as pd\n",
    "from PIL import Image\n",
    "from torch.utils.data import Dataset\n",
    "import torchvision.transforms as transforms\n",
    "\n",
    "class CustomDataset(Dataset):\n",
    "  def __init__(self, csv_file, transform=None):\n",
    "    self.data = pd.read_csv(csv_file)\n",
    "    self.transform = transform\n",
    "    self.label_dict = {\"not_fish\": 0, \"fish\": 1}\n",
    "\n",
    "  def __len__(self):\n",
    "    return len(self.data)\n",
    "\n",
    "  def __getitem__(self, idx):\n",
    "    # get image file paths from csv file\n",
    "    img_name = self.data.iloc[idx, 0]\n",
    "    # get the image from path\n",
    "    image = Image.open(img_name)\n",
    "    # get the image label from csv file\n",
    "    label = self.data.iloc[idx, 1]\n",
    "    # encode the image label accordingly\n",
    "    encoded_label = self.label_dict[label]\n",
    "    if self.transform:\n",
    "      image = self.transform(image)\n",
    "\n",
    "    return image, encoded_label\n",
    "\n",
    "\n",
    "# Define transforms for the input images\n",
    "transform = transforms.Compose(\n",
    "    [\n",
    "        transforms.Resize((244, 244)),\n",
    "        transforms.ToTensor(),\n",
    "        # normalization for color images\n",
    "        transforms.Normalize(mean=[0.485, 0.456, 0.406], std=[0.229, 0.224, 0.225]),\n",
    "    ]\n",
    ")\n",
    "\n",
    "\n",
    "# Load train and test datasets\n",
    "train_set = CustomDataset(\n",
    "    csv_file=\"train.csv\",\n",
    "    transform=transform,\n",
    ")\n",
    "test_set = CustomDataset(\n",
    "    csv_file=\"test.csv\",\n",
    "    transform=transform,\n",
    ")"
   ]
  },
  {
   "cell_type": "code",
   "execution_count": 4,
   "id": "f1c7967a-5b67-43d4-8124-f596ce044b48",
   "metadata": {},
   "outputs": [
    {
     "name": "stdout",
     "output_type": "stream",
     "text": [
      "3407\n",
      "852\n"
     ]
    }
   ],
   "source": [
    "# Print set sizes\n",
    "print(len(train_set))\n",
    "print(len(test_set))"
   ]
  },
  {
   "cell_type": "code",
   "execution_count": 5,
   "id": "feb5de13-0097-493d-bf73-fbee3940d8f9",
   "metadata": {},
   "outputs": [],
   "source": [
    "from torch.utils.data import DataLoader\n",
    "batch_size = 32\n",
    "\n",
    "# Define data loaders\n",
    "train_loader = DataLoader(train_set, \n",
    "                          batch_size=batch_size, \n",
    "                          shuffle=True, \n",
    "                          pin_memory=False, \n",
    "                          generator=torch.Generator(device='cuda'))\n",
    "\n",
    "test_loader = DataLoader(test_set, \n",
    "                         batch_size=batch_size, \n",
    "                         shuffle=False, \n",
    "                         pin_memory=False, \n",
    "                         generator=torch.Generator(device='cuda'))"
   ]
  },
  {
   "cell_type": "code",
   "execution_count": 6,
   "id": "9f5d951a-7e51-46d3-8af5-90f4c635a4d9",
   "metadata": {},
   "outputs": [
    {
     "data": {
      "text/plain": [
       "device(type='cuda')"
      ]
     },
     "execution_count": 6,
     "metadata": {},
     "output_type": "execute_result"
    }
   ],
   "source": [
    "import torch\n",
    "# Check if GPU is available and set the device accordingly\n",
    "device = torch.device(\"cuda\" if torch.cuda.is_available() else \"cpu\")\n",
    "device"
   ]
  },
  {
   "cell_type": "code",
   "execution_count": 7,
   "id": "e75d4d36-722e-43a5-bec3-aac05ecf5a8e",
   "metadata": {},
   "outputs": [],
   "source": [
    "import torch\n",
    "import torch.nn as nn\n",
    "import torch.optim as optim\n",
    "import torchvision.models as models\n",
    "\n",
    "# Define MobileNetV4 model for binary classification\n",
    "class MobileNetV4(nn.Module):\n",
    "    def __init__(self):\n",
    "        super(MobileNetV4, self).__init__()\n",
    "        self.model = models.mobilenet_v3_small(weights='MobileNet_V3_Small_Weights.DEFAULT')\n",
    "        # Freeze all layers except the final classifier\n",
    "        for param in self.model.parameters():\n",
    "            param.requires_grad = False\n",
    "        self.model.classifier[-1] = nn.Linear(self.model.classifier[-1].in_features, 1)\n",
    "        self.sigmoid = nn.Sigmoid()\n",
    "\n",
    "    def forward(self, x):\n",
    "        x = self.model(x)\n",
    "        x = self.sigmoid(x)\n",
    "        return x\n",
    "\n",
    "# Initialize the model\n",
    "model = MobileNetV4()\n",
    "\n",
    "# Move the model to the appropriate device\n",
    "model = model.to(device)"
   ]
  },
  {
   "cell_type": "code",
   "execution_count": 8,
   "id": "4f5cb7c7-0909-4968-a44e-5267086ed7e9",
   "metadata": {},
   "outputs": [],
   "source": [
    "# Define loss function and optimizer\n",
    "loss_fn = nn.BCELoss().to(device)\n",
    "optimizer = optim.Adam(model.parameters(), lr=0.001)"
   ]
  },
  {
   "cell_type": "code",
   "execution_count": 11,
   "id": "3e4ec866-9376-4f36-81e1-f2f0abeb62ab",
   "metadata": {},
   "outputs": [
    {
     "name": "stdout",
     "output_type": "stream",
     "text": [
      "Epoch [1/20], Loss: 0.0425, Accuracy: 0.9891, Time: 0.36 minutes\n",
      "Epoch [2/20], Loss: 0.0402, Accuracy: 0.9880, Time: 0.32 minutes\n",
      "Epoch [3/20], Loss: 0.0323, Accuracy: 0.9927, Time: 0.34 minutes\n",
      "Epoch [4/20], Loss: 0.0321, Accuracy: 0.9915, Time: 0.37 minutes\n",
      "Epoch [5/20], Loss: 0.0296, Accuracy: 0.9935, Time: 0.34 minutes\n",
      "Epoch [6/20], Loss: 0.0285, Accuracy: 0.9927, Time: 0.37 minutes\n",
      "Epoch [7/20], Loss: 0.0307, Accuracy: 0.9930, Time: 0.38 minutes\n",
      "Epoch [8/20], Loss: 0.0226, Accuracy: 0.9953, Time: 0.38 minutes\n",
      "Epoch [9/20], Loss: 0.0260, Accuracy: 0.9938, Time: 0.37 minutes\n",
      "Epoch [10/20], Loss: 0.0225, Accuracy: 0.9938, Time: 0.38 minutes\n",
      "Epoch [11/20], Loss: 0.0198, Accuracy: 0.9962, Time: 0.38 minutes\n",
      "Epoch [12/20], Loss: 0.0175, Accuracy: 0.9962, Time: 0.38 minutes\n",
      "Epoch [13/20], Loss: 0.0202, Accuracy: 0.9944, Time: 0.38 minutes\n",
      "Epoch [14/20], Loss: 0.0187, Accuracy: 0.9953, Time: 0.37 minutes\n",
      "Epoch [15/20], Loss: 0.0210, Accuracy: 0.9956, Time: 0.34 minutes\n",
      "Epoch [16/20], Loss: 0.0137, Accuracy: 0.9974, Time: 0.37 minutes\n",
      "Epoch [17/20], Loss: 0.0208, Accuracy: 0.9938, Time: 0.38 minutes\n",
      "Epoch [18/20], Loss: 0.0154, Accuracy: 0.9962, Time: 0.37 minutes\n",
      "Epoch [19/20], Loss: 0.0189, Accuracy: 0.9932, Time: 0.38 minutes\n",
      "Epoch [20/20], Loss: 0.0163, Accuracy: 0.9962, Time: 0.38 minutes\n",
      "Total training time: 7.32 minutes\n"
     ]
    }
   ],
   "source": [
    "import time\n",
    "\n",
    "# Training loop\n",
    "num_epochs = 20\n",
    "\n",
    "start_time = time.time()\n",
    "for epoch in range(num_epochs):\n",
    "    epoch_start_time = time.time()\n",
    "\n",
    "    # Set the model to training mode\n",
    "    model.train()\n",
    "    running_loss = 0.0\n",
    "    correct = 0\n",
    "    total = 0\n",
    "\n",
    "    for images, labels in train_loader:\n",
    "        images, labels = images.to(device), labels.to(device)\n",
    "\n",
    "        # Zero the parameter gradients\n",
    "        optimizer.zero_grad()\n",
    "\n",
    "        # Forward pass\n",
    "        outputs = model(images).squeeze(dim=1)\n",
    "        loss = loss_fn(outputs, labels.float())\n",
    "\n",
    "        # Backward pass and optimize\n",
    "        loss.backward()\n",
    "        optimizer.step()\n",
    "\n",
    "        # Track the accuracy and loss\n",
    "        predicted = torch.round(outputs)\n",
    "        total += labels.size(0)\n",
    "        correct += (predicted == labels).sum().item()\n",
    "        running_loss += loss.item()\n",
    "\n",
    "    epoch_loss = running_loss / len(train_loader)\n",
    "    epoch_accuracy = correct / total\n",
    "\n",
    "    epoch_time_minutes = (time.time() - epoch_start_time) / 60.0\n",
    "    print(f\"Epoch [{epoch+1}/{num_epochs}], Loss: {epoch_loss:.4f}, Accuracy: {epoch_accuracy:.4f}, Time: {epoch_time_minutes:.2f} minutes\")\n",
    "    \n",
    "    # Save model checkpoints for each  epoch\n",
    "    torch.save(model.state_dict(), f\"Checkpoints/mobileNetv4_model_bth{batch_size}_eph{num_epochs}_{epoch+1}.pth\")\n",
    "\n",
    "total_training_time_minutes = (time.time() - start_time) / 60.0\n",
    "print(f\"Total training time: {total_training_time_minutes:.2f} minutes\")"
   ]
  },
  {
   "cell_type": "markdown",
   "id": "2ffb7c24-dd6f-4510-bb63-e9c14948e6f8",
   "metadata": {},
   "source": [
    "# Test Model"
   ]
  },
  {
   "cell_type": "code",
   "execution_count": 12,
   "id": "c916f2e5-d353-4697-a8aa-58d12e467dd1",
   "metadata": {},
   "outputs": [
    {
     "data": {
      "text/plain": [
       "<All keys matched successfully>"
      ]
     },
     "execution_count": 12,
     "metadata": {},
     "output_type": "execute_result"
    }
   ],
   "source": [
    "# Load the saved model state from the .pth file\n",
    "saved_model_path = \"mobileNetv4_model_bth32_eph20_16.pth\"\n",
    "model.load_state_dict(torch.load(saved_model_path))"
   ]
  },
  {
   "cell_type": "code",
   "execution_count": 13,
   "id": "817e76eb-a1ed-4f0d-bdfe-7703c6c9bd07",
   "metadata": {},
   "outputs": [
    {
     "name": "stdout",
     "output_type": "stream",
     "text": [
      "Test Accuracy: 0.9953\n"
     ]
    }
   ],
   "source": [
    "# Set the model to evaluation mode\n",
    "model.eval()\n",
    "\n",
    "# Define a function to evaluate the model on the test loader\n",
    "def evaluate_model(model, test_loader):\n",
    "    correct = 0\n",
    "    total = 0\n",
    "    with torch.no_grad():\n",
    "        for images, labels in test_loader:\n",
    "            images, labels = images.to(device), labels.to(device)\n",
    "            outputs = model(images).squeeze(dim=1)\n",
    "            predicted = torch.round(outputs)\n",
    "            total += labels.size(0)\n",
    "            correct += (predicted == labels).sum().item()\n",
    "\n",
    "    accuracy = correct / total\n",
    "    return accuracy\n",
    "\n",
    "# Evaluate the model on the test loader\n",
    "test_accuracy = evaluate_model(model, test_loader)\n",
    "print(f\"Test Accuracy: {test_accuracy:.4f}\")"
   ]
  }
 ],
 "metadata": {
  "kernelspec": {
   "display_name": "Python 3 (ipykernel)",
   "language": "python",
   "name": "python3"
  },
  "language_info": {
   "codemirror_mode": {
    "name": "ipython",
    "version": 3
   },
   "file_extension": ".py",
   "mimetype": "text/x-python",
   "name": "python",
   "nbconvert_exporter": "python",
   "pygments_lexer": "ipython3",
   "version": "3.11.7"
  }
 },
 "nbformat": 4,
 "nbformat_minor": 5
}
